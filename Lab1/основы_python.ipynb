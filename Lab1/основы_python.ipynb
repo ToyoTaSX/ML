{
  "nbformat": 4,
  "nbformat_minor": 0,
  "metadata": {
    "colab": {
      "provenance": []
    },
    "kernelspec": {
      "name": "python3",
      "display_name": "Python 3"
    },
    "language_info": {
      "name": "python"
    }
  },
  "cells": [
    {
      "cell_type": "markdown",
      "source": [
        "#Задача 1\n",
        "Написать функцию на вход которой подается строка, состоящая из латинских букв.\n",
        "Функция должна вернуть количество гласных букв (a, e, i, o, u) в этой строке. Написать тесты для кода"
      ],
      "metadata": {
        "id": "M-DGa20PaHnu"
      }
    },
    {
      "cell_type": "code",
      "source": [
        "def counter(s):\n",
        "    count = 0\n",
        "    symbols = (\"a\", \"e\", \"i\", \"o\", \"u\")\n",
        "    for ch in symbols:\n",
        "      count += s.count(ch)\n",
        "    return count\n",
        "\n",
        "assert counter(\"aeiou\") == 5\n",
        "assert counter(\"\") == 0\n",
        "assert counter(\"mmmmmm\") == 0"
      ],
      "metadata": {
        "id": "XvX8X_JJ6PCb"
      },
      "execution_count": 4,
      "outputs": []
    },
    {
      "cell_type": "markdown",
      "source": [
        "# Задача 2\n",
        "Написать функцию на вход, которой подается строка. Функция должна вернуть true, если\n",
        "каждый символ в строке встречается только 1 раз, иначе должна вернуть false. Написать тесты для кода"
      ],
      "metadata": {
        "id": "t2ClV_Y0bbr6"
      }
    },
    {
      "cell_type": "code",
      "source": [
        "def func(str):\n",
        "    return len(str) == len(set(str))\n",
        "\n",
        "assert func(\"abc\") == True\n",
        "assert func(\"\") == True\n",
        "assert func(\"aabc\") == False\n",
        "assert func(\"aa\") == False"
      ],
      "metadata": {
        "id": "FppbECao6VIz"
      },
      "execution_count": 5,
      "outputs": []
    },
    {
      "cell_type": "markdown",
      "source": [
        "# Задача 3\n",
        "Написать функцию, которая принимает положительное число и возвращает количество\n",
        "бит равных 1 в этом числе. Написать тесты для кода"
      ],
      "metadata": {
        "id": "udRiIK1cdt6E"
      }
    },
    {
      "cell_type": "code",
      "source": [
        "def func(number):\n",
        "    return bin(number)[2:].count(\"1\")\n",
        "\n",
        "assert func(52) == 3\n",
        "assert func(0) == 0\n",
        "assert func(1) == 1"
      ],
      "metadata": {
        "id": "6tkfDJRz6dp_"
      },
      "execution_count": 6,
      "outputs": []
    },
    {
      "cell_type": "markdown",
      "source": [
        "# Задача 4\n",
        "Написать функцию, которая принимает положительное число. Функция должна вернуть то,\n",
        "сколько раз необходимо перемножать цифры числа или результат перемножения, чтобы\n",
        "получилось число состоящее из одной цифры.\n",
        "Например, для входного числа:\n",
        "· 39 функция должна вернуть 3, так как 3*9=27 => 2*7=14 => 1*4=4\n",
        "· 4 функция должна вернуть 0, так как число уже состоит из одной цифры\n",
        "· 999 функция должна вернуть 4, так как 9*9*9=729 => 7*2*9=126 => 1*2*6=12 =>\n",
        "1*2=2. Написать тесты для кода"
      ],
      "metadata": {
        "id": "26dDUz-Ae17N"
      }
    },
    {
      "cell_type": "code",
      "source": [
        "def func(number):\n",
        "    count = 0\n",
        "    while number // 10 > 0:\n",
        "        number = multiply_all(number)\n",
        "        count += 1\n",
        "    return count\n",
        "\n",
        "def multiply_all(number):\n",
        "    result = 1\n",
        "    for n in str(number):\n",
        "        result *= int(n)\n",
        "    return result\n",
        "\n",
        "assert func(39) == 3\n",
        "assert func(4) == 0\n",
        "assert func(999) == 4\n",
        "assert func(909) == 1"
      ],
      "metadata": {
        "id": "BH1A_Mgi6i4G"
      },
      "execution_count": 7,
      "outputs": []
    },
    {
      "cell_type": "markdown",
      "source": [
        "# Задача 5\n",
        "Написать функцию, которая принимает два целочисленных вектора одинаковой длины и\n",
        "возвращает среднеквадратическое отклонение двух векторов. Написать тесты для кода"
      ],
      "metadata": {
        "id": "0nS-kIa8g8vd"
      }
    },
    {
      "cell_type": "code",
      "source": [
        "def mse(pred, true):\n",
        "    sum = 0\n",
        "    for i in range(len(pred)):\n",
        "        sum += (true[i] - pred[i]) * (true[i] - pred[i])\n",
        "    sum /= len(pred)\n",
        "    return sum\n",
        "\n",
        "assert mse([4], [2]) == 4\n",
        "assert mse([4], [4]) == 0\n",
        "assert mse([4, 1], [2, 1]) == 2\n",
        "assert mse([4, 1, 1, 1], [2, 1, 1, 1]) == 1"
      ],
      "metadata": {
        "id": "8iphx4LM6xbx"
      },
      "execution_count": 8,
      "outputs": []
    },
    {
      "cell_type": "markdown",
      "source": [
        "# Задача 6\n",
        "Написать функцию, принимающая целое положительное число. Функция должна вернуть\n",
        "строку вида “(n1**p1)(n2**p2)…(nk**pk)” представляющая разложение числа на простые\n",
        "множители (если pi == 1, то выводить только ni).\n",
        "Например, для числа 86240 функция должна вернуть “(2**5)(5)(7**2)(11)”. Написать тесты для кода"
      ],
      "metadata": {
        "id": "vpIPKL439zkw"
      }
    },
    {
      "cell_type": "code",
      "source": [
        "def primes(n):\n",
        "   i = 2\n",
        "   primes = []\n",
        "   while i * i <= n:\n",
        "       while n % i == 0:\n",
        "           primes.append(int(i))\n",
        "           n = n / i\n",
        "       i = i + 1\n",
        "   if n > 1:\n",
        "       primes.append(int(n))\n",
        "   return sorted(primes)\n",
        "\n",
        "def func(n):\n",
        "    lst = primes(n)\n",
        "    result = \"\"\n",
        "    unique = list(set(lst))\n",
        "    unique.sort()\n",
        "    for i in unique:\n",
        "        count = lst.count(i)\n",
        "        result += f\")({i}\"\n",
        "        if count > 1:\n",
        "            result += f\"**{count}\"\n",
        "    result += \")\"\n",
        "    return result[1:]\n",
        "\n",
        "assert func(86240) == \"(2**5)(5)(7**2)(11)\""
      ],
      "metadata": {
        "id": "pFebmcZk94Jw"
      },
      "execution_count": 9,
      "outputs": []
    },
    {
      "cell_type": "markdown",
      "source": [
        "# Задача 7\n",
        "Написать функцию, принимающая целое число n, задающее количество кубиков. Функция\n",
        "должна определить, можно ли из данного кол-ва кубиков построить пирамиду, то есть\n",
        "можно ли представить число n как 1^2+2^2+3^2+…+k^2. Если можно, то функция должна\n",
        "вернуть k, иначе строку “It is impossible”. Написать тесты для кода"
      ],
      "metadata": {
        "id": "ps2s0BudX7A2"
      }
    },
    {
      "cell_type": "code",
      "source": [
        "def pyramid(number):\n",
        "    a = 1\n",
        "    while number > 0:\n",
        "        number -= a * a\n",
        "        a += 1\n",
        "    if number == 0:\n",
        "        return a - 1\n",
        "    return \"It is impossible\"\n",
        "\n",
        "assert pyramid(1) == 1\n",
        "assert pyramid(5) == 2\n",
        "assert pyramid(14) == 3\n",
        "assert pyramid(30) == 4\n",
        "assert pyramid(2) == \"It is impossible\"\n",
        "assert pyramid(6) == \"It is impossible\"\n",
        "assert pyramid(8) == \"It is impossible\""
      ],
      "metadata": {
        "id": "3YPjEXxhX_YT"
      },
      "execution_count": 10,
      "outputs": []
    },
    {
      "cell_type": "markdown",
      "source": [
        "# Задача 8\n",
        "Функция принимает на вход положительное число и определяет является ли оно сбалансированным, т.е. сумма цифр до средних равна сумме цифр после. Средними в случае нечетного числа цифр считать одну цифру, в случае четного - две средних. Написать тесты для кода"
      ],
      "metadata": {
        "id": "KeKgmIdAQMEJ"
      }
    },
    {
      "cell_type": "code",
      "source": [
        "def is_balanced(number):\n",
        "    str_num = str(number)\n",
        "    length = len(str_num)\n",
        "    left = 0\n",
        "    right = 0\n",
        "    if length % 2 == 0:\n",
        "        left = length // 2 - 1\n",
        "        right = left + 1\n",
        "    else:\n",
        "        right = left = length // 2\n",
        "    return sum([int(i) for i in str_num[:left]]) == sum([int(i) for i in str_num[right + 1:]])\n",
        "\n",
        "assert is_balanced(123421) == True\n",
        "assert is_balanced(12421) == True\n",
        "assert is_balanced(11) == True\n",
        "assert is_balanced(123) == False\n",
        "assert is_balanced(1) == True"
      ],
      "metadata": {
        "id": "gMAAqtqlQrZt"
      },
      "execution_count": 11,
      "outputs": []
    }
  ]
}